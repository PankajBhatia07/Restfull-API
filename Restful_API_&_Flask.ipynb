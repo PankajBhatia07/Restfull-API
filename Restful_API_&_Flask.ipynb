{
  "cells": [
    {
      "cell_type": "markdown",
      "source": [
        "# ***RESTful API & Flask***"
      ],
      "metadata": {
        "id": "rod0q3A6_Olh"
      }
    },
    {
      "cell_type": "markdown",
      "metadata": {
        "id": "89gDC2EXiaic"
      },
      "source": [
        "## **Q1. What is a RESTful API?**"
      ]
    },
    {
      "cell_type": "markdown",
      "metadata": {
        "id": "5OBZ-WfqiyL0"
      },
      "source": [
        "A RESTful API (Representational State Transfer API) is a web service that follows REST (Representational State Transfer) principles. It allows systems to communicate over the internet using standard HTTP methods like GET, POST, PUT, DELETE."
      ]
    },
    {
      "cell_type": "markdown",
      "metadata": {
        "id": "ERnrbfxPjPgp"
      },
      "source": [
        "## **Q2. Explain the concept of API specification.**"
      ]
    },
    {
      "cell_type": "markdown",
      "metadata": {
        "id": "qiM5_w5Vjptl"
      },
      "source": [
        "API Specification is a detailed blueprint that defines how an API should function. It outlines:\n",
        "\n",
        "Endpoints & Routes (e.g., /users, /orders/{id})\n",
        "* HTTP Methods (GET, POST, PUT, DELETE)\n",
        "* Request & Response Formats (JSON, XML)\n",
        "* Authentication & Authorization (e.g., API keys, OAuth)\n",
        "* Error Handling & Status Codes\n",
        "\n",
        "Popular tools for writing API specifications: Swagger (OpenAPI), RAML, Postman, API Blueprint."
      ]
    },
    {
      "cell_type": "markdown",
      "metadata": {
        "id": "rXAcuibZj7db"
      },
      "source": [
        "## **Q3.What is Flask, and why is it popular for building APIs?**"
      ]
    },
    {
      "cell_type": "markdown",
      "metadata": {
        "id": "YyHoSEekkYD2"
      },
      "source": [
        "Flask is a lightweight and flexible web framework for Python used to build web applications and APIs. It is based on WSGI (Web Server Gateway Interface) and follows a minimalistic approach, allowing developers to extend functionality as needed."
      ]
    },
    {
      "cell_type": "markdown",
      "metadata": {
        "id": "o-K__6P4kb2D"
      },
      "source": [
        "* Lightweight & Simple: Minimal boilerplate, easy to set up.\n",
        "* Flexible: Developers can customize it easily with extensions.\n",
        "* Built-in Development Server: Helps in quick testing.\n",
        "* Supports RESTful APIs: Works well for API development.\n",
        "* Integrates with Databases: Works with MongoDB, PostgreSQL, MySQL, etc.\n",
        "*Large Community & Extensions: Well-documented with many plugins (e.g., Flask-RESTful, Flask-JWT)."
      ]
    },
    {
      "cell_type": "markdown",
      "metadata": {
        "id": "olwMp_qyk5hw"
      },
      "source": [
        "## **Q4. What is routing in Flask?**"
      ]
    },
    {
      "cell_type": "markdown",
      "metadata": {
        "id": "IW9cQU_TqfjP"
      },
      "source": [
        "Routing in Flask refers to mapping URLs (endpoints) to specific functions (view functions) that handle client requests. It is done using the @app.route() decorator.\n",
        "\n",
        "**Example**"
      ]
    },
    {
      "cell_type": "code",
      "execution_count": null,
      "metadata": {
        "id": "NMfvFsfTqugU"
      },
      "outputs": [],
      "source": [
        "from flask import Flask\n",
        "\n",
        "app = Flask(__name__)\n",
        "\n",
        "@app.route('/')  # Route for the home page\n",
        "def home():\n",
        "    return \"Welcome to Flask!\"\n",
        "\n",
        "if __name__ == '__main__':\n",
        "    app.run(debug=True)\n"
      ]
    },
    {
      "cell_type": "markdown",
      "metadata": {
        "id": "_VHPIxpYq_Iw"
      },
      "source": [
        "## **Q5.How do you create a simple Flask application?**"
      ]
    },
    {
      "cell_type": "markdown",
      "metadata": {
        "id": "ngRYdFOFrKW9"
      },
      "source": [
        "**Steps to Create a Simple Flask Application**\n",
        "\n",
        "**Step 1: Install Flask**"
      ]
    },
    {
      "cell_type": "code",
      "execution_count": null,
      "metadata": {
        "id": "3KenIly_rlQA"
      },
      "outputs": [],
      "source": [
        "pip install flask"
      ]
    },
    {
      "cell_type": "markdown",
      "metadata": {
        "id": "Waqx2AEJrm9o"
      },
      "source": [
        "**Step 2: Create app.py**"
      ]
    },
    {
      "cell_type": "code",
      "execution_count": null,
      "metadata": {
        "id": "fUmI4NJ8rtGK"
      },
      "outputs": [],
      "source": [
        "from flask import Flask\n",
        "\n",
        "app = Flask(__name__)\n",
        "\n",
        "@app.route('/')  # Home route\n",
        "def home():\n",
        "    return \"Hello, Flask!\"\n",
        "\n",
        "if __name__ == '__main__':\n",
        "    app.run(debug=True)\n"
      ]
    },
    {
      "cell_type": "markdown",
      "metadata": {
        "id": "TQfLcwHTrxLB"
      },
      "source": [
        "**Step 3: Run the Application**"
      ]
    },
    {
      "cell_type": "code",
      "execution_count": null,
      "metadata": {
        "id": "fZNGZkuXr10F"
      },
      "outputs": [],
      "source": [
        "python app.py\n"
      ]
    },
    {
      "cell_type": "markdown",
      "metadata": {
        "id": "ZYsH1fjnr3Uk"
      },
      "source": [
        "**Step 4: Access in Browser**\n",
        "\n",
        "Open http://127.0.0.1:5000/ in your browser."
      ]
    },
    {
      "cell_type": "markdown",
      "metadata": {
        "id": "ZNz8RHb0sCyr"
      },
      "source": [
        "## **Q6.What are HTTP methods used in RESTful APIs?**"
      ]
    },
    {
      "cell_type": "markdown",
      "metadata": {
        "id": "RZkLwyHKsRUd"
      },
      "source": [
        "**Common HTTP Methods in RESTful APIs**\n",
        "\n",
        "**1.GET** → Retrieve data from the server.\n",
        "* Example: GET /users (Fetch all users)\n",
        "\n",
        "**2.POST** → Create a new resource on the server.\n",
        "* Example: POST /users (Add a new user)\n",
        "\n",
        "**3.PUT** → Update an existing resource (replaces entire data).\n",
        "* Example: PUT /users/1 (Update user with ID 1)\n",
        "\n",
        "**4.PATCH** → Partially update a resource.\n",
        "* Example: PATCH /users/1 (Modify some fields of user 1)\n",
        "\n",
        "**5.DELETE** → Remove a resource from the server.\n",
        "* Example: DELETE /users/1 (Delete user with ID 1)"
      ]
    },
    {
      "cell_type": "markdown",
      "metadata": {
        "id": "9JD7csi0sp2V"
      },
      "source": [
        "## **Q7.What is the purpose of the @app.route() decorator in Flask?**"
      ]
    },
    {
      "cell_type": "markdown",
      "metadata": {
        "id": "YBbvWazGs-5_"
      },
      "source": [
        "The @app.route() decorator in Flask is used to map a URL (endpoint) to a specific function (view function). When a user accesses the URL, Flask calls the associated function and returns the response.\n",
        "\n",
        "**Example:**"
      ]
    },
    {
      "cell_type": "code",
      "execution_count": null,
      "metadata": {
        "id": "5bzkQSq7tKD6"
      },
      "outputs": [],
      "source": [
        "from flask import Flask\n",
        "\n",
        "app = Flask(__name__)\n",
        "\n",
        "@app.route('/')  # Maps the root URL to the home() function\n",
        "def home():\n",
        "    return \"Welcome to Flask!\"\n",
        "\n",
        "if __name__ == '__main__':\n",
        "    app.run(debug=True)\n"
      ]
    },
    {
      "cell_type": "markdown",
      "metadata": {
        "id": "jcTdDFp_tPwK"
      },
      "source": [
        "## **Q8.What is the difference between GET and POST HTTP methods?**"
      ]
    },
    {
      "cell_type": "markdown",
      "metadata": {
        "id": "qg7HFhORtc35"
      },
      "source": [
        "![Screenshot 2025-03-29 215430.png](data:image/png;base64,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)"
      ]
    },
    {
      "cell_type": "markdown",
      "metadata": {
        "id": "79rZACdnuVMc"
      },
      "source": [
        "## **Q9. How do you handle errors in Flask APIs?**"
      ]
    },
    {
      "cell_type": "markdown",
      "metadata": {
        "id": "76R6bYNNvBrr"
      },
      "source": [
        "**Handling Errors in Flask APIs**\n",
        "\n",
        "**1.Using HTTP Status Codes** → Return appropriate codes like 400 (Bad Request), 404 (Not Found), 500 (Internal Server Error).\n",
        "\n",
        "**2.Flask abort() Function** → Immediately stop execution and return an error response.\n",
        "\n",
        "**3.Custom Error Handlers** → Use @app.errorhandler() to define custom responses for specific errors.\n",
        "\n",
        "**4.Try-Except Blocks** → Catch exceptions and return structured error messages.\n",
        "\n",
        "**5.Logging** → Log errors for debugging using Flask's logging module."
      ]
    },
    {
      "cell_type": "markdown",
      "metadata": {
        "id": "0wiD7jeyvd__"
      },
      "source": [
        "## **Q10.How do you connect Flask to a SQL database?**\n"
      ]
    },
    {
      "cell_type": "markdown",
      "metadata": {
        "id": "L-HEcCctvnfD"
      },
      "source": [
        "**Connecting Flask to a SQL Database**\n",
        "\n",
        "**1.Install SQLAlchemy** (ORM for database interaction)\n"
      ]
    },
    {
      "cell_type": "code",
      "execution_count": null,
      "metadata": {
        "id": "A809P80hv2bZ"
      },
      "outputs": [],
      "source": [
        "pip install flask-sqlalchemy\n"
      ]
    },
    {
      "cell_type": "markdown",
      "metadata": {
        "id": "6ijbubO0v3bQ"
      },
      "source": [
        "**2.Configure Flask App to Use Database**\n",
        "\n",
        "* Define the database URI in app.config['SQLALCHEMY_DATABASE_URI']\n",
        "\n",
        "* Initialize SQLAlchemy with SQLAlchemy(app)\n",
        "\n",
        "**3. Create Models** using db.Model to define tables.\n",
        "\n",
        "**4. Create & Migrate Database** using Flask-Migrate or manually with db.create_all()."
      ]
    },
    {
      "cell_type": "markdown",
      "metadata": {
        "id": "i0m6oCl2wZco"
      },
      "source": [
        "## **Q11.What is the role of Flask-SQLAlchemy?**"
      ]
    },
    {
      "cell_type": "markdown",
      "metadata": {
        "id": "7ot3Uc3NwkSR"
      },
      "source": [
        "Flask-SQLAlchemy is an extension for Flask that integrates SQLAlchemy, a powerful Object-Relational Mapper (ORM), to simplify database interactions.\n",
        "\n",
        "**Key Roles:**\n",
        "* **Manages Database Connections** – Handles SQL databases in Flask apps.\n",
        "* **Defines Models** – Uses Python classes to represent database tables.\n",
        "* **Performs CRUD Operations** – Enables easy Create, Read, Update, Delete actions.\n",
        "* **Supports Migrations** – Works with Flask-Migrate for database schema changes.\n",
        "* **Handles Queries** – Allows filtering, sorting, and joining data efficiently."
      ]
    },
    {
      "cell_type": "markdown",
      "metadata": {
        "id": "HG6WWNXBw4s-"
      },
      "source": [
        "## **Q12.What are Flask blueprints, and how are they useful?**"
      ]
    },
    {
      "cell_type": "markdown",
      "metadata": {
        "id": "JDhdBFrfxJ-j"
      },
      "source": [
        "Flask Blueprints are a way to organize and modularize a Flask application by structuring different parts (routes, views, models) into reusable components."
      ]
    },
    {
      "cell_type": "markdown",
      "metadata": {
        "id": "7pd1uuVlxyGs"
      },
      "source": [
        "**Why Use Blueprints?**\n",
        "\n",
        "* **Modular Structure** – Helps break large apps into smaller, manageable parts.\n",
        "* **Code Reusability** – Enables reusing routes across multiple apps.\n",
        "* **Better Maintainability** – Keeps related functionality grouped together.\n",
        "* **Easier Collaboration** – Teams can work on separate modules independently."
      ]
    },
    {
      "cell_type": "markdown",
      "metadata": {
        "id": "adM6S5H1yKx0"
      },
      "source": [
        "## **Q13.What is the purpose of Flask's request object?**"
      ]
    },
    {
      "cell_type": "markdown",
      "metadata": {
        "id": "oQND9lpYyRwt"
      },
      "source": [
        "**Purpose of Flask's request Object**\n",
        "\n",
        "Flask's request object is used to access data from incoming HTTP requests. It provides methods and attributes to handle:\n",
        "\n",
        "* **Form Data** – request.form (for POST form submissions)\n",
        "* **Query Parameters** – request.args (for GET request parameters)\n",
        "* **JSON Data** – request.get_json() (for API requests with JSON)\n",
        "* **Headers** – request.headers (for accessing request headers)\n",
        "* **Files** – request.files (for handling file uploads)\n",
        "* **Request Method** – request.method (to check GET, POST, etc.)"
      ]
    },
    {
      "cell_type": "markdown",
      "metadata": {
        "id": "8eSL1fUNysQb"
      },
      "source": [
        " ## **Q14.How do you create a RESTful API endpoint using Flask?**"
      ]
    },
    {
      "cell_type": "markdown",
      "metadata": {
        "id": "CAzuVTwqy3bN"
      },
      "source": [
        "**Steps to Create a RESTful API Endpoint in Flask**\n",
        "\n",
        "**1.Install Flask**"
      ]
    },
    {
      "cell_type": "code",
      "execution_count": null,
      "metadata": {
        "id": "rQd6u1uXzDZP"
      },
      "outputs": [],
      "source": [
        "pip install flask\n"
      ]
    },
    {
      "cell_type": "markdown",
      "metadata": {
        "id": "r5un9j8RzEeD"
      },
      "source": [
        "**2.Create app.py and Define an Endpoint**"
      ]
    },
    {
      "cell_type": "code",
      "execution_count": null,
      "metadata": {
        "id": "bil3snf617AK"
      },
      "outputs": [],
      "source": [
        "from flask import Flask, jsonify\n",
        "\n",
        "app = Flask(__name__)\n",
        "\n",
        "@app.route('/api/data', methods=['GET'])  # Define API endpoint\n",
        "def get_data():\n",
        "    return jsonify({\"message\": \"Hello, Flask API!\"})\n",
        "\n",
        "if __name__ == '__main__':\n",
        "    app.run(debug=True)\n"
      ]
    },
    {
      "cell_type": "markdown",
      "metadata": {
        "id": "3JXC-QPC18JQ"
      },
      "source": [
        "**3.Run the Flask App**"
      ]
    },
    {
      "cell_type": "code",
      "execution_count": null,
      "metadata": {
        "id": "0ZBIiP3E2G9W"
      },
      "outputs": [],
      "source": [
        "python app.py\n"
      ]
    },
    {
      "cell_type": "markdown",
      "metadata": {
        "id": "AJkrHSNV2KKA"
      },
      "source": [
        "**4.Access the API**\n",
        "\n",
        "Visit: http://127.0.0.1:5000/api/data in a browser or use Postman/cURL"
      ]
    },
    {
      "cell_type": "markdown",
      "metadata": {
        "id": "LdH3ohFB2Rc0"
      },
      "source": [
        "## **Q15.What is the purpose of Flask's jsonify() function?**\n"
      ]
    },
    {
      "cell_type": "markdown",
      "metadata": {
        "id": "bU8T2LPU2Xt9"
      },
      "source": [
        "**Purpose of Flask's jsonify() Function**\n",
        "\n",
        "Flask's jsonify() function is used to convert Python dictionaries, lists, or other serializable objects into a proper JSON response.\n",
        "\n",
        "* **Automatically Sets** Content-Type: application/json in the response.\n",
        "* **Ensures Proper JSON Formatting** for API responses.\n",
        "* **Handles Encoding Issues** like special characters.\n",
        "* **Better Performance** than manually using json.dumps()."
      ]
    },
    {
      "cell_type": "markdown",
      "metadata": {
        "id": "5Utudp1M3IJH"
      },
      "source": [
        "## **Q16.Explain Flask’s url_for() function.**"
      ]
    },
    {
      "cell_type": "markdown",
      "metadata": {
        "id": "35s3-7HG4G6u"
      },
      "source": [
        "**Flask's url_for() Function**\n",
        "\n",
        "Flask's url_for() function dynamically generates URLs for a given view function based on its name.\n",
        "\n",
        "**Purpose & Benefits:**\n",
        "* **Avoids Hardcoding URLs** – Changes in routes automatically update everywhere.\n",
        "* **Handles URL Building Dynamically** – Works with query parameters.\n",
        "* **Improves Maintainability** – Useful when restructuring routes.\n",
        "\n",
        "**Syntax:**"
      ]
    },
    {
      "cell_type": "code",
      "execution_count": null,
      "metadata": {
        "id": "3XvVM71s5C4c"
      },
      "outputs": [],
      "source": [
        "url_for('function_name', **values)\n"
      ]
    },
    {
      "cell_type": "markdown",
      "metadata": {
        "id": "OIAo0YTl5Ebq"
      },
      "source": [
        "## **Q17.How does Flask handle static files (CSS, JavaScript, etc.)? only answer this question.**\n",
        "\n"
      ]
    },
    {
      "cell_type": "markdown",
      "metadata": {
        "id": "R99CuRI56nbZ"
      },
      "source": [
        "Flask handles static files (CSS, JavaScript, images) using the static/ folder. By default, static files are stored in project_root/static/, and they can be accessed using the url_for('static', filename='path/to/file') function.\n",
        "\n",
        "**Example folder structure:**"
      ]
    },
    {
      "cell_type": "code",
      "execution_count": null,
      "metadata": {
        "id": "DH76UhZI6wNV"
      },
      "outputs": [],
      "source": [
        "/static\n",
        "   /css/style.css\n",
        "   /js/script.js\n",
        "   /images/logo.png\n"
      ]
    },
    {
      "cell_type": "markdown",
      "metadata": {
        "id": "bUong-uE62yy"
      },
      "source": [
        "**Usage in an HTML template**"
      ]
    },
    {
      "cell_type": "code",
      "execution_count": null,
      "metadata": {
        "id": "xuzAmb-e60Nv"
      },
      "outputs": [],
      "source": [
        "<link rel=\"stylesheet\" href=\"{{ url_for('static', filename='css/style.css') }}\">\n"
      ]
    },
    {
      "cell_type": "markdown",
      "metadata": {
        "id": "qFg6rqcm67_1"
      },
      "source": [
        "## **Q18.What is an API specification, and how does it help in building a Flask API?**"
      ]
    },
    {
      "cell_type": "markdown",
      "metadata": {
        "id": "DszBsvm47cbr"
      },
      "source": [
        "An API specification is a detailed contract that defines how an API should function, including its endpoints, request/response formats, authentication, and error handling.\n",
        "\n",
        "**How It Helps in Building a Flask API:**\n",
        "* **Standardization** – Ensures consistency in API structure.\n",
        "* **Clear Documentation** – Helps developers understand API usage.\n",
        "* **Improves Collaboration** – Teams can work independently based on the spec.\n",
        "* **Auto-Generation of Code & Tests** – Tools like Swagger/OpenAPI streamline development.\n",
        "* **Enhances Maintainability** – Easy updates and versioning of the API."
      ]
    },
    {
      "cell_type": "markdown",
      "metadata": {
        "id": "v88_lC8E78yc"
      },
      "source": [
        "## **Q19.What are HTTP status codes, and why are they important in a Flask API?**"
      ]
    },
    {
      "cell_type": "markdown",
      "metadata": {
        "id": "KvBU2yI78OD4"
      },
      "source": [
        "**HTTP Status Codes & Their Importance in a Flask API**\n",
        "\n",
        "HTTP status codes are standardized responses sent by a server to indicate the result of an API request. They help clients (frontend, other services) understand the outcome of their request.\n",
        "\n",
        "**Why Are They Important?**\n",
        "* Communicate Success or Failure – Helps clients handle responses properly.\n",
        "* Standardized Error Handling – Makes debugging easier.\n",
        "* Improves API Usability – Ensures clarity in responses.\n",
        "\n",
        "**Common Status Codes:**\n",
        "* **200 OK** → Request successful\n",
        "\n",
        "* **201 Created** → Resource successfully created\n",
        "\n",
        "* **400 Bad Request** → Invalid client request\n",
        "\n",
        "* **401 Unauthorized** → Authentication required\n",
        "\n",
        "* **403 Forbidden** → Access denied\n",
        "\n",
        "* **404 Not Found** → Resource does not exist\n",
        "\n",
        "* **500 Internal Server Error** → Server-side issue"
      ]
    },
    {
      "cell_type": "markdown",
      "metadata": {
        "id": "Fw8-IUcR9Vus"
      },
      "source": [
        "##  **Q20.How do you handle POST requests in Flask?**\n",
        "\n"
      ]
    },
    {
      "cell_type": "markdown",
      "metadata": {
        "id": "F5ydVG5kB_nG"
      },
      "source": [
        "1. **Import Flask & request** – Use request to access incoming data.\n",
        "2. **Define a Route with methods**=['POST'] – Allow only POST requests.\n",
        "3. **Extract Data** – Use request.form, request.json, or request.data.\n",
        "4. **Process & Respond** – Validate, store, and return a response using jsonify()."
      ]
    },
    {
      "cell_type": "markdown",
      "metadata": {
        "id": "zAr4aNov94OR"
      },
      "source": [
        "## **Q21.How would you secure a Flask API?**"
      ]
    },
    {
      "cell_type": "markdown",
      "metadata": {
        "id": "V83eAMVa9_J9"
      },
      "source": [
        "**1. Use Authentication & Authorization** – Implement JWT (JSON Web Tokens), OAuth, or API keys to restrict access.\n",
        "\n",
        "**2. Enable HTTPS** – Encrypt data transmission with SSL/TLS.\n",
        "\n",
        "**3. Validate & Sanitize Input** – Prevent SQL injection & XSS attacks.\n",
        "\n",
        "**4. Implement Rate Limiting** – Prevent abuse using Flask-Limiter.\n",
        "\n",
        "**5. Handle Errors Securely** – Avoid exposing sensitive system details.\n",
        "\n",
        "**6. Use Secure Headers** – Set CORS, Content Security Policy (CSP), X-Frame-Options headers.\n",
        "\n",
        "**7. Keep Dependencies Updated** – Regularly update Flask & libraries to patch vulnerabilities"
      ]
    },
    {
      "cell_type": "markdown",
      "metadata": {
        "id": "HjDUEA5K_9AJ"
      },
      "source": [
        "## **Q22.What is the significance of the Flask-RESTful extension?**"
      ]
    },
    {
      "cell_type": "markdown",
      "metadata": {
        "id": "pr-BAC1QABys"
      },
      "source": [
        "Flask-RESTful is an extension that simplifies building RESTful APIs in Flask by providing a structured way to define API resources.\n",
        "\n",
        "**Key Benefits:**\n",
        "* **Class-Based API Design** – Uses Resource classes for cleaner, modular code.\n",
        "* **Automatic Request Parsing** – Handles JSON input validation easily.\n",
        "* **Better Routing & Method Handling** – Supports GET, POST, PUT, DELETE with ease.\n",
        "* **Built-in Error Handling** – Provides standard error responses.\n",
        "* **Integrates with Flask’s Feature**s – Works well with Flask-SQLAlchemy, Marshmallow, and JWT.\n",
        "\n"
      ]
    },
    {
      "cell_type": "markdown",
      "metadata": {
        "id": "ulXLRrcRBLVH"
      },
      "source": [
        "## **Q23.What is the role of Flask’s session object?**"
      ]
    },
    {
      "cell_type": "markdown",
      "metadata": {
        "id": "2nJOlUa7Bk5m"
      },
      "source": [
        "**Role of Flask’s session Object**\n",
        "\n",
        "Flask’s session object is used to store user-specific data across multiple requests. It is backed by cookies and signed cryptographically to ensure security.\n",
        "\n",
        "**Key Features:**\n",
        "* **Stores Data Per User** – Maintains user state across requests.\n",
        "\n",
        "* **Secure (Signed Cookies)** – Prevents tampering using Flask’s secret key.\n",
        "\n",
        "* **Temporary Storage** – Data persists until the session expires or is cleared.\n",
        "\n",
        "* **Useful for Authentication** – Stores user login state."
      ]
    },
    {
      "cell_type": "markdown",
      "metadata": {
        "id": "w4dAO5VWB5F0"
      },
      "source": []
    },
    {
      "cell_type": "markdown",
      "source": [],
      "metadata": {
        "id": "fcA6S_dX_LGo"
      }
    },
    {
      "cell_type": "markdown",
      "metadata": {
        "id": "U9Ep9IsbgYyD"
      },
      "source": [
        "# ***Practical***"
      ]
    },
    {
      "cell_type": "markdown",
      "metadata": {
        "id": "952lYgh1gpD1"
      },
      "source": [
        "## **Q1.How do you create a basic Flask application?**"
      ]
    },
    {
      "cell_type": "code",
      "execution_count": null,
      "metadata": {
        "id": "Wu-epSoChc4v"
      },
      "outputs": [],
      "source": [
        "#Install Flask\n",
        "pip install Flask"
      ]
    },
    {
      "cell_type": "code",
      "execution_count": null,
      "metadata": {
        "id": "4Hw4qc4yhCnD"
      },
      "outputs": [],
      "source": [
        "# Create a New Python File (app.py)\n",
        "from flask import Flask\n",
        "\n",
        "app = Flask(__name__)\n",
        "\n",
        "@app.route('/')\n",
        "def home():\n",
        "    return \"Hello, Flask!\"\n",
        "\n",
        "if __name__ == '__main__':\n",
        "    app.run(debug=True)\n"
      ]
    },
    {
      "cell_type": "code",
      "execution_count": null,
      "metadata": {
        "id": "_d-_CjXKhTWZ"
      },
      "outputs": [],
      "source": [
        "#Run the Flask Application\n",
        "python app.py\n"
      ]
    },
    {
      "cell_type": "markdown",
      "metadata": {
        "id": "WUr9dwm8htlx"
      },
      "source": [
        "**Access the Application in Browser**\n",
        "Open http://127.0.0.1:5000/ in your web browser."
      ]
    },
    {
      "cell_type": "markdown",
      "metadata": {
        "id": "j3CdXpuTh13c"
      },
      "source": [
        "## **Q2.How do you serve static files like images or CSS in Flask?**"
      ]
    },
    {
      "cell_type": "code",
      "execution_count": null,
      "metadata": {
        "id": "LZfAp8ACkWIJ"
      },
      "outputs": [],
      "source": [
        "#Project Structure\n",
        "/my_flask_app\n",
        "    /static\n",
        "        /css\n",
        "            styles.css\n",
        "        /images\n",
        "            logo.png\n",
        "        /js\n",
        "            script.js\n",
        "    /templates\n",
        "        index.html\n",
        "    app.py\n"
      ]
    },
    {
      "cell_type": "code",
      "execution_count": null,
      "metadata": {
        "id": "Au-FaxObkeV5"
      },
      "outputs": [],
      "source": [
        "#Serving Static Files in HTML\n",
        "#(templates/index.html)\n",
        "<!DOCTYPE html>\n",
        "<html lang=\"en\">\n",
        "<head>\n",
        "    <meta charset=\"UTF-8\">\n",
        "    <meta name=\"viewport\" content=\"width=device-width, initial-scale=1.0\">\n",
        "    <title>Flask Static Files</title>\n",
        "    <link rel=\"stylesheet\" href=\"{{ url_for('static', filename='css/styles.css') }}\">\n",
        "</head>\n",
        "<body>\n",
        "    <h1>Welcome to Flask!</h1>\n",
        "    <img src=\"{{ url_for('static', filename='images/logo.png') }}\" alt=\"Logo\">\n",
        "    <script src=\"{{ url_for('static', filename='js/script.js') }}\"></script>\n",
        "</body>\n",
        "</html>\n"
      ]
    },
    {
      "cell_type": "code",
      "execution_count": null,
      "metadata": {
        "id": "L702LIOJkob5"
      },
      "outputs": [],
      "source": [
        "#Flask Code(app.py)\n",
        "from flask import Flask, render_template\n",
        "\n",
        "app = Flask(__name__)\n",
        "\n",
        "@app.route('/')\n",
        "def home():\n",
        "    return render_template('index.html')\n",
        "\n",
        "if __name__ == '__main__':\n",
        "    app.run(debug=True)\n"
      ]
    },
    {
      "cell_type": "code",
      "execution_count": null,
      "metadata": {
        "id": "HmYneaGmk0DL"
      },
      "outputs": [],
      "source": [
        "#Running the Flask App\n",
        "python app.py\n"
      ]
    },
    {
      "cell_type": "markdown",
      "metadata": {
        "id": "lLmF9krWk4YG"
      },
      "source": [
        "Then, open http://127.0.0.1:5000/ in your browser."
      ]
    },
    {
      "cell_type": "markdown",
      "metadata": {
        "id": "xQbjbCfCk8dJ"
      },
      "source": [
        "## **Q3.How do you define different routes with different HTTP methods in Flask?**"
      ]
    },
    {
      "cell_type": "markdown",
      "metadata": {
        "id": "-wcDGBRyly9y"
      },
      "source": [
        "In Flask, you can define routes with different HTTP methods using the methods parameter in the @app.route() decorator."
      ]
    },
    {
      "cell_type": "code",
      "execution_count": null,
      "metadata": {
        "id": "BOcktOB8lCL8"
      },
      "outputs": [],
      "source": [
        "#Example:GET and POST\n",
        "from flask import Flask, request\n",
        "\n",
        "app = Flask(__name__)\n",
        "\n",
        "@app.route('/', methods=['GET'])\n",
        "def home():\n",
        "    return \"Welcome to the Home Page!\"\n",
        "\n",
        "@app.route('/submit', methods=['POST'])\n",
        "def submit():\n",
        "    return \"Data Submitted Successfully!\"\n",
        "\n",
        "if __name__ == '__main__':\n",
        "    app.run(debug=True)\n"
      ]
    },
    {
      "cell_type": "markdown",
      "metadata": {
        "id": "L_s78u7ImBsC"
      },
      "source": [
        "* **GET** / → Returns \"Welcome to the Home Page!\"\n",
        "\n",
        "* **POST** /submit → Returns \"Data Submitted Successfully!\""
      ]
    },
    {
      "cell_type": "code",
      "execution_count": null,
      "metadata": {
        "id": "XjAXSOLrmPEP"
      },
      "outputs": [],
      "source": [
        "#Handling Multiple Methods in One Route\n",
        "@app.route('/user', methods=['GET', 'POST'])\n",
        "def user():\n",
        "    if request.method == 'GET':\n",
        "        return \"GET Request: Fetching User Data\"\n",
        "    elif request.method == 'POST':\n",
        "        return \"POST Request: Creating User\"\n"
      ]
    },
    {
      "cell_type": "markdown",
      "metadata": {
        "id": "L8XaC-UzmY5m"
      },
      "source": [
        "* **GET** /user → Fetches user data\n",
        "\n",
        "* **POST** /user → Creates a new user"
      ]
    },
    {
      "cell_type": "code",
      "execution_count": null,
      "metadata": {
        "id": "4dcXm21Vmflg"
      },
      "outputs": [],
      "source": [
        "#Using request to Handle Form Data\n",
        "from flask import Flask, request\n",
        "\n",
        "app = Flask(__name__)\n",
        "\n",
        "@app.route('/login', methods=['GET', 'POST'])\n",
        "def login():\n",
        "    if request.method == 'POST':\n",
        "        username = request.form['username']\n",
        "        return f\"Welcome, {username}!\"\n",
        "    return '''\n",
        "        <form method=\"post\">\n",
        "            Username: <input type=\"text\" name=\"username\">\n",
        "            <input type=\"submit\">\n",
        "        </form>\n",
        "    '''\n",
        "\n",
        "if __name__ == '__main__':\n",
        "    app.run(debug=True)\n"
      ]
    },
    {
      "cell_type": "markdown",
      "metadata": {
        "id": "MTnJqUhnmpBG"
      },
      "source": [
        "* **GET** /login → Displays the form\n",
        "\n",
        "* **POST** /login → Processes form submission"
      ]
    },
    {
      "cell_type": "markdown",
      "metadata": {
        "id": "5ApOn15vm0q4"
      },
      "source": [
        "**Final**\n",
        "* **GET**: Retrieve data\n",
        "\n",
        "* **POST**: Send data to the server\n",
        "\n",
        "* **PUT**: Update existing data\n",
        "\n",
        "* **DELETE**: Remove data"
      ]
    },
    {
      "cell_type": "markdown",
      "metadata": {
        "id": "Zox6wycdm87g"
      },
      "source": [
        "## **Q4. How do you render HTML templates in Flask?**"
      ]
    },
    {
      "cell_type": "markdown",
      "metadata": {
        "id": "eyq7Zr-FnXm2"
      },
      "source": [
        "**Rendering HTML Templates in Flask**\n",
        "\n",
        "Flask uses the Jinja2 templating engine to render HTML templates stored in the templates/ folder."
      ]
    },
    {
      "cell_type": "code",
      "execution_count": null,
      "metadata": {
        "id": "dEXVV7WKnkOC"
      },
      "outputs": [],
      "source": [
        "#Project Structure\n",
        "/my_flask_app\n",
        "    /templates\n",
        "        index.html\n",
        "        about.html\n",
        "    app.py\n"
      ]
    },
    {
      "cell_type": "code",
      "execution_count": null,
      "metadata": {
        "id": "aPxx3DrInpQe"
      },
      "outputs": [],
      "source": [
        "#Create Flask(app.py)\n",
        "from flask import Flask, render_template\n",
        "\n",
        "app = Flask(__name__)\n",
        "\n",
        "@app.route('/')\n",
        "def home():\n",
        "    return render_template('index.html')\n",
        "\n",
        "@app.route('/about')\n",
        "def about():\n",
        "    return render_template('about.html')\n",
        "\n",
        "if __name__ == '__main__':\n",
        "    app.run(debug=True)\n"
      ]
    },
    {
      "cell_type": "code",
      "execution_count": null,
      "metadata": {
        "id": "DJi5djwdnwOF"
      },
      "outputs": [],
      "source": [
        "#Create HTML Templates (templates/index.html)\n",
        "<!DOCTYPE html>\n",
        "<html lang=\"en\">\n",
        "<head>\n",
        "    <meta charset=\"UTF-8\">\n",
        "    <meta name=\"viewport\" content=\"width=device-width, initial-scale=1.0\">\n",
        "    <title>Home Page</title>\n",
        "</head>\n",
        "<body>\n",
        "    <h1>Welcome to Flask!</h1>\n",
        "    <a href=\"{{ url_for('about') }}\">Go to About Page</a>\n",
        "</body>\n",
        "</html>\n"
      ]
    },
    {
      "cell_type": "code",
      "execution_count": null,
      "metadata": {
        "id": "ay5or1Sln-JJ"
      },
      "outputs": [],
      "source": [
        "#(templates/about.html)\n",
        "<!DOCTYPE html>\n",
        "<html lang=\"en\">\n",
        "<head>\n",
        "    <meta charset=\"UTF-8\">\n",
        "    <meta name=\"viewport\" content=\"width=device-width, initial-scale=1.0\">\n",
        "    <title>About Page</title>\n",
        "</head>\n",
        "<body>\n",
        "    <h1>About Us</h1>\n",
        "    <a href=\"{{ url_for('home') }}\">Back to Home</a>\n",
        "</body>\n",
        "</html>\n"
      ]
    },
    {
      "cell_type": "code",
      "execution_count": null,
      "metadata": {
        "id": "pbJ4gvDDoFnI"
      },
      "outputs": [],
      "source": [
        "#Run the Flask App\n",
        "python app.py\n"
      ]
    },
    {
      "cell_type": "markdown",
      "metadata": {
        "id": "e9kpXHrboMzv"
      },
      "source": [
        "Then open http://127.0.0.1:5000/ in your browser."
      ]
    },
    {
      "cell_type": "code",
      "execution_count": null,
      "metadata": {
        "id": "mqb38pi1orQ_"
      },
      "outputs": [],
      "source": [
        "#Jinja2 Templating\n",
        "#You can pass dynamic data to your templates:\n",
        "@app.route('/user/<name>')\n",
        "def user(name):\n",
        "    return render_template('user.html', username=name)\n"
      ]
    },
    {
      "cell_type": "code",
      "execution_count": null,
      "metadata": {
        "id": "Ykssz_UGo16d"
      },
      "outputs": [],
      "source": [
        "#templates/user.html\n",
        "<h1>Hello, {{ username }}!</h1>\n"
      ]
    },
    {
      "cell_type": "markdown",
      "metadata": {
        "id": "56hh6JnMpH8Y"
      },
      "source": [
        "URL: /user/John → Displays \"Hello, John!\""
      ]
    },
    {
      "cell_type": "markdown",
      "metadata": {
        "id": "dhftZ-SapJ1-"
      },
      "source": [
        "## **Q5.How can you generate URLs for routes in Flask using url_for?**"
      ]
    },
    {
      "cell_type": "markdown",
      "metadata": {
        "id": "Jj150XlTpbvc"
      },
      "source": [
        "In Flask, the url_for() function generates URLs for routes dynamically.\n"
      ]
    },
    {
      "cell_type": "code",
      "execution_count": null,
      "metadata": {
        "id": "qMbnF3q8rDWq"
      },
      "outputs": [],
      "source": [
        "#Example\n",
        "from flask import Flask, url_for\n",
        "\n",
        "app = Flask(__name__)\n",
        "\n",
        "@app.route('/home')\n",
        "def home():\n",
        "    return \"Home Page\"\n",
        "\n",
        "with app.test_request_context():\n",
        "    print(url_for('home'))  # Output /home\n"
      ]
    },
    {
      "cell_type": "markdown",
      "metadata": {
        "id": "_A8kvqC4rIXQ"
      },
      "source": [
        "**Why Use url_for()?**\n",
        "* Avoids hardcoding URLs\n",
        "\n",
        "* Handles dynamic routes with parameters\n",
        "\n",
        "* Works even if the route structure changes"
      ]
    },
    {
      "cell_type": "code",
      "execution_count": null,
      "metadata": {
        "id": "nToXFRvTrYkw"
      },
      "outputs": [],
      "source": [
        "#Example with Parameters:\n",
        "@app.route('/user/<username>')\n",
        "def profile(username):\n",
        "    return f\"Profile of {username}\"\n",
        "\n",
        "with app.test_request_context():\n",
        "    print(url_for('profile', username='John'))  # Output: /user/John\n"
      ]
    },
    {
      "cell_type": "markdown",
      "metadata": {
        "id": "C42bbaM3rlTs"
      },
      "source": [
        "**Handling Forms in Flask**\n",
        "\n",
        "Flask handles forms using the request object to get form data from POST requests."
      ]
    },
    {
      "cell_type": "code",
      "execution_count": null,
      "metadata": {
        "id": "AIIYV-tKrwDU"
      },
      "outputs": [],
      "source": [
        "#Install Flask-WTF for Better Form Handling (Optional)\n",
        "pip install flask-wtf\n"
      ]
    },
    {
      "cell_type": "code",
      "execution_count": null,
      "metadata": {
        "id": "E3DoWJvpr1Wl"
      },
      "outputs": [],
      "source": [
        "#Basic Form Handling in Flask\n",
        "from flask import Flask, render_template, request\n",
        "\n",
        "app = Flask(__name__)\n",
        "\n",
        "@app.route('/login', methods=['GET', 'POST'])\n",
        "def login():\n",
        "    if request.method == 'POST':\n",
        "        username = request.form['username']\n",
        "        password = request.form['password']\n",
        "        return f\"Welcome, {username}!\"\n",
        "    return render_template('login.html')\n",
        "\n",
        "if __name__ == '__main__':\n",
        "    app.run(debug=True)\n"
      ]
    },
    {
      "cell_type": "code",
      "execution_count": null,
      "metadata": {
        "id": "ZF1OeQirsAsQ"
      },
      "outputs": [],
      "source": [
        "#Create a Simple HTML Form (templates/login.html)\n",
        "<!DOCTYPE html>\n",
        "<html lang=\"en\">\n",
        "<head>\n",
        "    <meta charset=\"UTF-8\">\n",
        "    <meta name=\"viewport\" content=\"width=device-width, initial-scale=1.0\">\n",
        "    <title>Login</title>\n",
        "</head>\n",
        "<body>\n",
        "    <h2>Login Form</h2>\n",
        "    <form method=\"post\">\n",
        "        Username: <input type=\"text\" name=\"username\" required><br><br>\n",
        "        Password: <input type=\"password\" name=\"password\" required><br><br>\n",
        "        <input type=\"submit\" value=\"Login\">\n",
        "    </form>\n",
        "</body>\n",
        "</html>\n"
      ]
    },
    {
      "cell_type": "markdown",
      "metadata": {
        "id": "ipChb896sFZU"
      },
      "source": [
        "**Explanation**\n",
        "* **GET** /login → Displays the login form\n",
        "\n",
        "* **POST** /login → Handles form submission and processes data\n",
        "\n"
      ]
    },
    {
      "cell_type": "code",
      "execution_count": null,
      "metadata": {
        "id": "8-rZDyb_sb_2"
      },
      "outputs": [],
      "source": [
        "#Advanced: Using Flask-WTF for Secure Forms\n",
        "from flask import Flask, render_template, request\n",
        "from flask_wtf import FlaskForm\n",
        "from wtforms import StringField, PasswordField, SubmitField\n",
        "from wtforms.validators import DataRequired\n",
        "\n",
        "app = Flask(__name__)\n",
        "app.config['SECRET_KEY'] = 'supersecretkey'  # Required for CSRF protection\n",
        "\n",
        "class LoginForm(FlaskForm):\n",
        "    username = StringField('Username', validators=[DataRequired()])\n",
        "    password = PasswordField('Password', validators=[DataRequired()])\n",
        "    submit = SubmitField('Login')\n",
        "\n",
        "@app.route('/login', methods=['GET', 'POST'])\n",
        "def login():\n",
        "    form = LoginForm()\n",
        "    if form.validate_on_submit():\n",
        "        return f\"Welcome, {form.username.data}!\"\n",
        "    return render_template('login.html', form=form)\n",
        "\n",
        "if __name__ == '__main__':\n",
        "    app.run(debug=True)\n"
      ]
    },
    {
      "cell_type": "markdown",
      "metadata": {
        "id": "tbV2nP9WsnVb"
      },
      "source": [
        "## **Q6. How do you handle forms in Flask?**"
      ]
    },
    {
      "cell_type": "markdown",
      "metadata": {
        "id": "muUh4dN8w-Fy"
      },
      "source": [
        "Flask handles forms using the request object to get form data from POST requests."
      ]
    },
    {
      "cell_type": "code",
      "execution_count": null,
      "metadata": {
        "id": "nsjzfmGdwyH8"
      },
      "outputs": [],
      "source": [
        "#Install Flask-WTF for Better Form Handling (Optional)\n",
        "pip install flask-wtf\n"
      ]
    },
    {
      "cell_type": "code",
      "execution_count": null,
      "metadata": {
        "id": "dVLEkcKXxEda"
      },
      "outputs": [],
      "source": [
        "#Basic Form Handling in Flask\n",
        "from flask import Flask, render_template, request\n",
        "\n",
        "app = Flask(__name__)\n",
        "\n",
        "@app.route('/login', methods=['GET', 'POST'])\n",
        "def login():\n",
        "    if request.method == 'POST':\n",
        "        username = request.form['username']\n",
        "        password = request.form['password']\n",
        "        return f\"Welcome, {username}!\"\n",
        "    return render_template('login.html')\n",
        "\n",
        "if __name__ == '__main__':\n",
        "    app.run(debug=True)\n"
      ]
    },
    {
      "cell_type": "code",
      "execution_count": null,
      "metadata": {
        "id": "JclPiH4NxJIQ"
      },
      "outputs": [],
      "source": [
        "#Create a Simple HTML Form (templates/login.html)\n",
        "<!DOCTYPE html>\n",
        "<html lang=\"en\">\n",
        "<head>\n",
        "    <meta charset=\"UTF-8\">\n",
        "    <meta name=\"viewport\" content=\"width=device-width, initial-scale=1.0\">\n",
        "    <title>Login</title>\n",
        "</head>\n",
        "<body>\n",
        "    <h2>Login Form</h2>\n",
        "    <form method=\"post\">\n",
        "        Username: <input type=\"text\" name=\"username\" required><br><br>\n",
        "        Password: <input type=\"password\" name=\"password\" required><br><br>\n",
        "        <input type=\"submit\" value=\"Login\">\n",
        "    </form>\n",
        "</body>\n",
        "</html>\n"
      ]
    },
    {
      "cell_type": "markdown",
      "metadata": {
        "id": "STrjig79xWF0"
      },
      "source": [
        "**Explanation**\n",
        "* **GET** /login → Displays the login form\n",
        "\n",
        "* **POST** /login → Handles form submission and processes data"
      ]
    },
    {
      "cell_type": "code",
      "execution_count": null,
      "metadata": {
        "id": "sUrU6RQPxeIT"
      },
      "outputs": [],
      "source": [
        "#Advanced: Using Flask-WTF for Secure Forms\n",
        "from flask import Flask, render_template, request\n",
        "from flask_wtf import FlaskForm\n",
        "from wtforms import StringField, PasswordField, SubmitField\n",
        "from wtforms.validators import DataRequired\n",
        "\n",
        "app = Flask(__name__)\n",
        "app.config['SECRET_KEY'] = 'supersecretkey'  # Required for CSRF protection\n",
        "\n",
        "class LoginForm(FlaskForm):\n",
        "    username = StringField('Username', validators=[DataRequired()])\n",
        "    password = PasswordField('Password', validators=[DataRequired()])\n",
        "    submit = SubmitField('Login')\n",
        "\n",
        "@app.route('/login', methods=['GET', 'POST'])\n",
        "def login():\n",
        "    form = LoginForm()\n",
        "    if form.validate_on_submit():\n",
        "        return f\"Welcome, {form.username.data}!\"\n",
        "    return render_template('login.html', form=form)\n",
        "\n",
        "if __name__ == '__main__':\n",
        "    app.run(debug=True)\n"
      ]
    },
    {
      "cell_type": "markdown",
      "metadata": {
        "id": "8pQekIItxnfo"
      },
      "source": [
        "## **Q7.How can you validate form data in Flask?**"
      ]
    },
    {
      "cell_type": "markdown",
      "metadata": {
        "id": "0i1B51f0x3BW"
      },
      "source": [
        "Flask provides multiple ways to validate form data, including manual validation using request.form and automatic validation using Flask-WTF.\n",
        "\n"
      ]
    },
    {
      "cell_type": "code",
      "execution_count": null,
      "metadata": {
        "id": "SosAfgvwx3-q"
      },
      "outputs": [],
      "source": [
        "#Manual Validation Using request.form\n",
        "from flask import Flask, render_template, request\n",
        "\n",
        "app = Flask(__name__)\n",
        "\n",
        "@app.route('/login', methods=['GET', 'POST'])\n",
        "def login():\n",
        "    error = None\n",
        "    if request.method == 'POST':\n",
        "        username = request.form.get('username')\n",
        "        password = request.form.get('password')\n",
        "\n",
        "        if not username or not password:\n",
        "            error = \"Both fields are required!\"\n",
        "        else:\n",
        "            return f\"Welcome, {username}!\"\n",
        "\n",
        "    return render_template('login.html', error=error)\n",
        "\n",
        "if __name__ == '__main__':\n",
        "    app.run(debug=True)\n"
      ]
    },
    {
      "cell_type": "code",
      "execution_count": null,
      "metadata": {
        "id": "4WsiV9W4x-eB"
      },
      "outputs": [],
      "source": [
        "#HTML Form (templates/login.html)\n",
        "<form method=\"post\">\n",
        "    Username: <input type=\"text\" name=\"username\"><br>\n",
        "    Password: <input type=\"password\" name=\"password\"><br>\n",
        "    <input type=\"submit\" value=\"Login\">\n",
        "</form>\n",
        "{% if error %}\n",
        "<p style=\"color: red;\">{{ error }}</p>\n",
        "{% endif %}\n"
      ]
    },
    {
      "cell_type": "markdown",
      "metadata": {
        "id": "T22qmfH1zmTR"
      },
      "source": [
        "**Using Flask-WTF for Secure and Automatic Validation**\n",
        "\n",
        "Flask-WTF makes form validation more structured and secure."
      ]
    },
    {
      "cell_type": "code",
      "execution_count": null,
      "metadata": {
        "id": "O1dwJqEVzyHk"
      },
      "outputs": [],
      "source": [
        "#Install Flask-WTF\n",
        "pip install flask-wtf\n"
      ]
    },
    {
      "cell_type": "code",
      "execution_count": null,
      "metadata": {
        "id": "pIBEY9G3z1-U"
      },
      "outputs": [],
      "source": [
        "#Create a Secure Form Class (forms.py)\n",
        "from flask_wtf import FlaskForm\n",
        "from wtforms import StringField, PasswordField, SubmitField\n",
        "from wtforms.validators import DataRequired, Length\n",
        "\n",
        "class LoginForm(FlaskForm):\n",
        "    username = StringField('Username', validators=[DataRequired(), Length(min=3, max=20)])\n",
        "    password = PasswordField('Password', validators=[DataRequired(), Length(min=6)])\n",
        "    submit = SubmitField('Login')\n"
      ]
    },
    {
      "cell_type": "code",
      "execution_count": null,
      "metadata": {
        "id": "y-mICeVaz7J3"
      },
      "outputs": [],
      "source": [
        "#Use the Form in Your Flask App (app.py)\n",
        "from flask import Flask, render_template\n",
        "from forms import LoginForm\n",
        "\n",
        "app = Flask(__name__)\n",
        "app.config['SECRET_KEY'] = 'supersecretkey'  # Required for CSRF protection\n",
        "\n",
        "@app.route('/login', methods=['GET', 'POST'])\n",
        "def login():\n",
        "    form = LoginForm()\n",
        "    if form.validate_on_submit():\n",
        "        return f\"Welcome, {form.username.data}!\"\n",
        "    return render_template('login.html', form=form)\n",
        "\n",
        "if __name__ == '__main__':\n",
        "    app.run(debug=True)\n"
      ]
    },
    {
      "cell_type": "code",
      "execution_count": null,
      "metadata": {
        "id": "tFijD5Vwz_Pd"
      },
      "outputs": [],
      "source": [
        "#Update login.html to Use Flask-WTF\n",
        "<form method=\"post\">\n",
        "    {{ form.hidden_tag() }}\n",
        "    {{ form.username.label }} {{ form.username }}<br>\n",
        "    {{ form.password.label }} {{ form.password }}<br>\n",
        "    {{ form.submit }}\n",
        "</form>\n",
        "{% for field, errors in form.errors.items() %}\n",
        "    {% for error in errors %}\n",
        "        <p style=\"color: red;\">{{ error }}</p>\n",
        "    {% endfor %}\n",
        "{% endfor %}\n"
      ]
    },
    {
      "cell_type": "markdown",
      "metadata": {
        "id": "ccEtZNSm0FM1"
      },
      "source": [
        "* Automatically Validates Input Fields\n",
        "* Prevents CSRF Attacks\n",
        "* Handles Length and Required Fields Easil\n",
        "\n"
      ]
    },
    {
      "cell_type": "markdown",
      "metadata": {
        "id": "1tnuIQNx0S5J"
      },
      "source": [
        "## **Q8. How do you manage sessions in Flask?**"
      ]
    },
    {
      "cell_type": "markdown",
      "metadata": {
        "id": "HqmLFLmQ2OZz"
      },
      "source": [
        "**Managing Sessions in Flask**\n",
        "\n",
        "Flask provides a session object to store user-specific data across multiple requests."
      ]
    },
    {
      "cell_type": "code",
      "execution_count": null,
      "metadata": {
        "id": "lAWi7oCe0aYn"
      },
      "outputs": [],
      "source": [
        "#Enabling Sessions in Flask\n",
        "from flask import Flask, session, redirect, url_for, request\n",
        "\n",
        "app = Flask(__name__)\n",
        "app.config['SECRET_KEY'] = 'supersecretkey'  # Required for session security\n",
        "\n",
        "@app.route('/')\n",
        "def home():\n",
        "    return f\"User: {session.get('username', 'Guest')}\"\n",
        "\n",
        "@app.route('/login', methods=['POST'])\n",
        "def login():\n",
        "    session['username'] = request.form['username']\n",
        "    return redirect(url_for('home'))\n",
        "\n",
        "@app.route('/logout')\n",
        "def logout():\n",
        "    session.pop('username', None)  # Remove session data\n",
        "    return redirect(url_for('home'))\n",
        "\n",
        "if __name__ == '__main__':\n",
        "    app.run(debug=True)\n"
      ]
    },
    {
      "cell_type": "code",
      "execution_count": null,
      "metadata": {
        "id": "fHJA5ffv2dIG"
      },
      "outputs": [],
      "source": [
        "#HTML Form for Login (templates/login.html)\n",
        "<form method=\"post\" action=\"{{ url_for('login') }}\">\n",
        "    <input type=\"text\" name=\"username\" placeholder=\"Enter username\">\n",
        "    <input type=\"submit\" value=\"Login\">\n",
        "</form>\n",
        "<a href=\"{{ url_for('logout') }}\">Logout</a>\n"
      ]
    },
    {
      "cell_type": "markdown",
      "metadata": {
        "id": "XGl8LQyw2ivC"
      },
      "source": [
        "**Explanation**\n",
        "\n",
        "* session['username'] = value → Stores data in session\n",
        "\n",
        "* session.get('username', 'Guest') → Retrieves session data with a default value\n",
        "\n",
        "* session.pop('username', None) → Removes session data"
      ]
    },
    {
      "cell_type": "markdown",
      "metadata": {
        "id": "-9WZtNZV2tYa"
      },
      "source": [
        "**Using Permanent Sessions**\n"
      ]
    },
    {
      "cell_type": "code",
      "execution_count": null,
      "metadata": {
        "id": "Hrc0foJD2yxM"
      },
      "outputs": [],
      "source": [
        "session.permanent = True  # Keeps session even after closing the browser\n"
      ]
    },
    {
      "cell_type": "markdown",
      "metadata": {
        "id": "zF8GSm-e21g5"
      },
      "source": [
        "To set a custom expiration time:"
      ]
    },
    {
      "cell_type": "code",
      "execution_count": null,
      "metadata": {
        "id": "94msTk5X24P4"
      },
      "outputs": [],
      "source": [
        "from datetime import timedelta\n",
        "app.permanent_session_lifetime = timedelta(days=7)  # Session lasts for 7 days\n"
      ]
    },
    {
      "cell_type": "markdown",
      "metadata": {
        "id": "MVFxs6LL29Fd"
      },
      "source": [
        "## **Q9.How do you redirect to a different route in Flask?**"
      ]
    },
    {
      "cell_type": "markdown",
      "metadata": {
        "id": "3daX36f8NBHt"
      },
      "source": [
        "**Redirecting to a Different Route in Flask**\n",
        "Flask provides the redirect() and url_for() functions to navigate between routes dynamically."
      ]
    },
    {
      "cell_type": "code",
      "execution_count": null,
      "metadata": {
        "id": "d88QP0HOND4G"
      },
      "outputs": [],
      "source": [
        "#Basic Redirect\n",
        "from flask import Flask, redirect, url_for\n",
        "\n",
        "app = Flask(__name__)\n",
        "\n",
        "@app.route('/')\n",
        "def home():\n",
        "    return \"Home Page\"\n",
        "\n",
        "@app.route('/dashboard')\n",
        "def dashboard():\n",
        "    return \"Welcome to the Dashboard!\"\n",
        "\n",
        "@app.route('/login')\n",
        "def login():\n",
        "    return redirect(url_for('dashboard'))  # Redirects to the dashboard\n",
        "\n",
        "if __name__ == '__main__':\n",
        "    app.run(debug=True)\n",
        "\n",
        "#redirect(url_for('dashboard')) → Redirects /login to /dashboard\n"
      ]
    },
    {
      "cell_type": "code",
      "execution_count": null,
      "metadata": {
        "id": "DhX3UnZxNAnq"
      },
      "outputs": [],
      "source": [
        "#Redirect with Parameters\n",
        "@app.route('/user/<name>')\n",
        "def user_profile(name):\n",
        "    return f\"Hello, {name}!\"\n",
        "\n",
        "@app.route('/goto_user/<name>')\n",
        "def goto_user(name):\n",
        "    return redirect(url_for('user_profile', name=name)\n",
        "\n",
        "#url_for('user_profile', name=name) → Redirects while passing parameters\n",
        "\n"
      ]
    },
    {
      "cell_type": "code",
      "execution_count": null,
      "metadata": {
        "id": "uOQVdVFtNy_N"
      },
      "outputs": [],
      "source": [
        "#Redirecting with HTTP Status Codes\n",
        "return redirect(url_for('dashboard'), code=302)  # Temporary Redirect (default)\n",
        "return redirect(url_for('dashboard'), code=301)  # Permanent Redirect\n"
      ]
    },
    {
      "cell_type": "markdown",
      "metadata": {
        "id": "XMuA5QiBOjeO"
      },
      "source": [
        "## **Q10.How do you handle errors in Flask (e.g., 404)?**"
      ]
    },
    {
      "cell_type": "markdown",
      "metadata": {
        "id": "gaajYV3GQIP7"
      },
      "source": [
        "**Handling Errors in Flask (e.g., 404, 500, etc.)**\n",
        "\n",
        "Flask provides a way to handle errors using error handlers with the @app.errorhandler() decorator."
      ]
    },
    {
      "cell_type": "code",
      "execution_count": null,
      "metadata": {
        "id": "caM2MNmPOpK3"
      },
      "outputs": [],
      "source": [
        "#Handling 404 Not Found Error\n",
        "from flask import Flask, render_template\n",
        "\n",
        "app = Flask(__name__)\n",
        "\n",
        "@app.errorhandler(404)\n",
        "def not_found_error(error):\n",
        "    return \"Page Not Found! Please check the URL.\", 404\n",
        "\n",
        "if __name__ == '__main__':\n",
        "    app.run(debug=True)\n",
        "#Returns a custom message for missing pages with a 404 status code"
      ]
    },
    {
      "cell_type": "code",
      "execution_count": null,
      "metadata": {
        "id": "HiQxxD8NQbt7"
      },
      "outputs": [],
      "source": [
        "#Custom Error Page Using HTML Template\n",
        "@app.errorhandler(404)\n",
        "def not_found_error(error):\n",
        "    return render_template('404.html'), 404\n",
        "#Displays a user-friendly error page instead of plain text."
      ]
    },
    {
      "cell_type": "code",
      "execution_count": null,
      "metadata": {
        "id": "YY9sovS2Qo-0"
      },
      "outputs": [],
      "source": [
        "# Example 404.html (Template)\n",
        "<!DOCTYPE html>\n",
        "<html>\n",
        "<head>\n",
        "    <title>Page Not Found</title>\n",
        "</head>\n",
        "<body>\n",
        "    <h1>Oops! 404 Error</h1>\n",
        "    <p>The page you are looking for does not exist.</p>\n",
        "</body>\n",
        "</html>\n"
      ]
    },
    {
      "cell_type": "code",
      "execution_count": null,
      "metadata": {
        "id": "PKOGudgyQsaI"
      },
      "outputs": [],
      "source": [
        "#Handling Multiple Errors (e.g., 500 - Internal Server Error)\n",
        "@app.errorhandler(500)\n",
        "def internal_error(error):\n",
        "    return \"Internal Server Error! Something went wrong.\", 500\n",
        "#Handles unexpected server issues gracefully."
      ]
    },
    {
      "cell_type": "code",
      "execution_count": null,
      "metadata": {
        "id": "6C4QxOERQzbQ"
      },
      "outputs": [],
      "source": [
        "#Using abort() to Trigger Custom Errors\n",
        "from flask import abort\n",
        "\n",
        "@app.route('/admin')\n",
        "def admin():\n",
        "    abort(403)  # Forbidden Access\n"
      ]
    },
    {
      "cell_type": "markdown",
      "metadata": {
        "id": "rBs9yXhUR_nF"
      },
      "source": [
        "## **Q11. How do you structure a Flask app using Blueprints?**"
      ]
    },
    {
      "cell_type": "code",
      "execution_count": null,
      "metadata": {
        "id": "6UovfJmgUHE6"
      },
      "outputs": [],
      "source": [
        "#Project Structure\n",
        "/my_flask_app\n",
        "│── /app\n",
        "│   │── /blueprints\n",
        "│   │   │── __init__.py\n",
        "│   │   │── auth.py\n",
        "│   │   │── user.py\n",
        "│   │── __init__.py\n",
        "│   │── routes.py\n",
        "│   │── models.py\n",
        "│── /templates\n",
        "│── /static\n",
        "│── config.py\n",
        "│── run.py\n"
      ]
    },
    {
      "cell_type": "code",
      "execution_count": null,
      "metadata": {
        "id": "S2XUTpDSUKz4"
      },
      "outputs": [],
      "source": [
        "#Initializing the Flask App (app/__init__.py)\n",
        "from flask import Flask\n",
        "\n",
        "def create_app():\n",
        "    app = Flask(__name__)\n",
        "\n",
        "    # Register Blueprints\n",
        "    from app.blueprints.auth import auth_bp\n",
        "    from app.blueprints.user import user_bp\n",
        "    app.register_blueprint(auth_bp, url_prefix=\"/auth\")\n",
        "    app.register_blueprint(user_bp, url_prefix=\"/user\")\n",
        "\n",
        "    return app\n"
      ]
    },
    {
      "cell_type": "code",
      "execution_count": null,
      "metadata": {
        "id": "5x2asfiTYVKT"
      },
      "outputs": [],
      "source": [
        "#Creating a Blueprint (app/blueprints/auth.py)\n",
        "from flask import Blueprint\n",
        "\n",
        "auth_bp = Blueprint('auth', __name__)\n",
        "\n",
        "@auth_bp.route('/login')\n",
        "def login():\n",
        "    return \"Login Page\"\n",
        "\n",
        "@auth_bp.route('/register')\n",
        "def register():\n",
        "    return \"Register Page\"\n"
      ]
    },
    {
      "cell_type": "code",
      "execution_count": null,
      "metadata": {
        "id": "PobAcO81YbCK"
      },
      "outputs": [],
      "source": [
        "#Creating Another Blueprint (app/blueprints/user.py)\n",
        "from flask import Blueprint\n",
        "\n",
        "user_bp = Blueprint('user', __name__)\n",
        "\n",
        "@user_bp.route('/profile')\n",
        "def profile():\n",
        "    return \"User Profile Page\"\n"
      ]
    },
    {
      "cell_type": "code",
      "execution_count": null,
      "metadata": {
        "id": "7aE8F6HwYdQ0"
      },
      "outputs": [],
      "source": [
        "#Running the Application (run.py)\n",
        "from app import create_app\n",
        "\n",
        "app = create_app()\n",
        "\n",
        "if __name__ == '__main__':\n",
        "    app.run(debug=True)\n"
      ]
    },
    {
      "cell_type": "markdown",
      "metadata": {
        "id": "WaHzqiHQYlee"
      },
      "source": [
        "**Benefits of Using Blueprints**\n",
        "* Makes the project modular and scalable\n",
        "* Improves code organization and readability\n",
        "* Allows different parts of the app to be developed independently\n",
        "\n",
        "Now, you can access:\n",
        "\n",
        "http://127.0.0.1:5000/auth/login → Login Page\n",
        "\n",
        "http://127.0.0.1:5000/user/profile → User Profile"
      ]
    },
    {
      "cell_type": "markdown",
      "metadata": {
        "id": "e5xiIM9gYxig"
      },
      "source": []
    },
    {
      "cell_type": "markdown",
      "metadata": {
        "id": "mq3yAAUQYz_6"
      },
      "source": [
        "## **Q12.How do you define a custom Jinja filter in Flask?**"
      ]
    },
    {
      "cell_type": "markdown",
      "metadata": {
        "id": "wMVM2KNZZU1L"
      },
      "source": [
        "**Defining a Custom Jinja Filter in Flask**\n",
        "\n",
        "In Flask, you can create a custom Jinja filter to process data inside templates dynamically.\n",
        "\n"
      ]
    },
    {
      "cell_type": "code",
      "execution_count": null,
      "metadata": {
        "colab": {
          "background_save": true,
          "base_uri": "https://localhost:8080/"
        },
        "id": "f2AIZUIFZbQR",
        "outputId": "1a973cf7-42cf-4db0-a33c-d781104074b3"
      },
      "outputs": [
        {
          "name": "stdout",
          "output_type": "stream",
          "text": [
            " * Serving Flask app '__main__'\n",
            " * Debug mode: on\n"
          ]
        },
        {
          "name": "stderr",
          "output_type": "stream",
          "text": [
            "INFO:werkzeug:\u001b[31m\u001b[1mWARNING: This is a development server. Do not use it in a production deployment. Use a production WSGI server instead.\u001b[0m\n",
            " * Running on http://127.0.0.1:5000\n",
            "INFO:werkzeug:\u001b[33mPress CTRL+C to quit\u001b[0m\n",
            "INFO:werkzeug: * Restarting with stat\n"
          ]
        }
      ],
      "source": [
        "#Defining a Custom Filter in Flask\n",
        "from flask import Flask, render_template\n",
        "\n",
        "app = Flask(__name__)\n",
        "\n",
        "# Custom Jinja filter to reverse a string\n",
        "def reverse_string(s):\n",
        "    return s[::-1]\n",
        "\n",
        "# Register the filter with Jinja\n",
        "app.jinja_env.filters['reverse'] = reverse_string\n",
        "\n",
        "@app.route('/')\n",
        "def home():\n",
        "    return render_template('index.html', name=\"Flask\")\n",
        "\n",
        "if __name__ == '__main__':\n",
        "    app.run(debug=True)\n"
      ]
    },
    {
      "cell_type": "code",
      "execution_count": null,
      "metadata": {
        "id": "7tc4yKgJZqbx"
      },
      "outputs": [],
      "source": [
        "#Using the Custom Filter in a Jinja Template (templates/index.html)\n",
        "<!DOCTYPE html>\n",
        "<html>\n",
        "<head>\n",
        "    <title>Custom Jinja Filter</title>\n",
        "</head>\n",
        "<body>\n",
        "    <h1>Original: {{ name }}</h1>\n",
        "    <h1>Reversed: {{ name | reverse }}</h1>\n",
        "</body>\n",
        "</html>\n"
      ]
    },
    {
      "cell_type": "code",
      "execution_count": null,
      "metadata": {
        "id": "TNjIPMLjbCgF"
      },
      "outputs": [],
      "source": [
        "#Alternative: Using app.template_filter Decorator\n",
        "#You can also register a filter using the @app.template_filter() decorator.\n",
        "@app.template_filter('capitalize_first')\n",
        "def capitalize_first_letter(s):\n",
        "    return s.capitalize()\n"
      ]
    },
    {
      "cell_type": "code",
      "execution_count": null,
      "metadata": {
        "id": "TXgshcG1bdNr"
      },
      "outputs": [],
      "source": [
        "#Usage in Jinja Template:\n",
        "<p>{{ \"hello world\" | capitalize_first }}</p>\n"
      ]
    },
    {
      "cell_type": "markdown",
      "metadata": {
        "id": "Vq49IQxVbm2O"
      },
      "source": [
        "## **Q13.How can you redirect with query parameters in Flask?**"
      ]
    },
    {
      "cell_type": "markdown",
      "source": [
        "**Redirecting with Query Parameters in Flask**\n",
        "You can use redirect() and url_for() to redirect with query parameters dynamically."
      ],
      "metadata": {
        "id": "RhhVCPTs0ckj"
      }
    },
    {
      "cell_type": "code",
      "source": [
        "#Basic Redirect with Query Parameters\n",
        "from flask import Flask, redirect, url_for, request\n",
        "\n",
        "app = Flask(__name__)\n",
        "\n",
        "@app.route('/search')\n",
        "def search():\n",
        "    query = request.args.get('q', 'No Query Provided')\n",
        "    return f\"Search results for: {query}\"\n",
        "\n",
        "@app.route('/redirect_search')\n",
        "def redirect_search():\n",
        "    return redirect(url_for('search', q='Flask Tutorial'))\n",
        "\n",
        "if __name__ == '__main__':\n",
        "    app.run(debug=True)\n",
        "# When visiting /redirect_search, it redirects to /search?q=Flask+Tutorial.\n",
        "# The request.args.get('q') retrieves the query parameter value."
      ],
      "metadata": {
        "id": "LNhYRPXz0d4e"
      },
      "execution_count": null,
      "outputs": []
    },
    {
      "cell_type": "code",
      "execution_count": null,
      "metadata": {
        "id": "Qm-i8e7XbqLb"
      },
      "outputs": [],
      "source": [
        "#Redirect with Multiple Query Parameters\n",
        "@app.route('/results')\n",
        "def results():\n",
        "    term = request.args.get('term', 'Default')\n",
        "    category = request.args.get('category', 'All')\n",
        "    return f\"Showing results for '{term}' in category '{category}'\"\n",
        "\n",
        "@app.route('/redirect_results')\n",
        "def redirect_results():\n",
        "    return redirect(url_for('results', term='Python', category='Books'))\n"
      ]
    },
    {
      "cell_type": "markdown",
      "source": [
        "**Why Use Query Parameters in Redirects?**\n",
        "* Pass dynamic values between routes\n",
        "* Useful for search queries, filters, and pagination\n",
        "* Makes URLs more user-friendly and shareable"
      ],
      "metadata": {
        "id": "SLEYCqcA3IYH"
      }
    },
    {
      "cell_type": "markdown",
      "source": [
        "## **Q14.How do you return JSON responses in Flask?**"
      ],
      "metadata": {
        "id": "NhqEk8G13Z6C"
      }
    },
    {
      "cell_type": "markdown",
      "source": [
        "Flask provides multiple ways to return JSON responses using jsonify() or Response()."
      ],
      "metadata": {
        "id": "OXu-CsNI3iC_"
      }
    },
    {
      "cell_type": "code",
      "source": [
        "#Using jsonify() (Recommended)\n",
        "from flask import Flask, jsonify\n",
        "\n",
        "app = Flask(__name__)\n",
        "\n",
        "@app.route('/data')\n",
        "def get_data():\n",
        "    return jsonify({\"message\": \"Hello, Flask!\", \"status\": \"success\"})\n",
        "\n",
        "if __name__ == '__main__':\n",
        "    app.run(debug=True)\n"
      ],
      "metadata": {
        "colab": {
          "base_uri": "https://localhost:8080/"
        },
        "id": "m0Mv4N0n3o5l",
        "outputId": "c63d3c7f-bfe1-4ba6-e2fe-3f682119aab8"
      },
      "execution_count": null,
      "outputs": [
        {
          "output_type": "stream",
          "name": "stdout",
          "text": [
            " * Serving Flask app '__main__'\n",
            " * Debug mode: on\n"
          ]
        },
        {
          "output_type": "stream",
          "name": "stderr",
          "text": [
            "INFO:werkzeug:\u001b[31m\u001b[1mWARNING: This is a development server. Do not use it in a production deployment. Use a production WSGI server instead.\u001b[0m\n",
            " * Running on http://127.0.0.1:5000\n",
            "INFO:werkzeug:\u001b[33mPress CTRL+C to quit\u001b[0m\n",
            "INFO:werkzeug: * Restarting with stat\n"
          ]
        }
      ]
    },
    {
      "cell_type": "code",
      "source": [
        "#Returning JSON Directly\n",
        "@app.route('/direct_json')\n",
        "def direct_json():\n",
        "    return {\"message\": \"Hello, Flask!\", \"status\": \"success\"}\n",
        "#Flask (≥1.1) automatically converts dictionaries to JSON responses.\n"
      ],
      "metadata": {
        "id": "KZ85XBcB4ADH"
      },
      "execution_count": null,
      "outputs": []
    },
    {
      "cell_type": "code",
      "source": [
        "#Customizing Response with Status Code\n",
        "@app.route('/custom_status')\n",
        "def custom_status():\n",
        "    return jsonify({\"error\": \"Unauthorized\"}), 401  # HTTP 401 Unauthorized\n",
        "#This sets a custom HTTP status code."
      ],
      "metadata": {
        "id": "e_kk6EBB4Gth"
      },
      "execution_count": null,
      "outputs": []
    },
    {
      "cell_type": "code",
      "source": [
        "#Using Response() for More Control\n",
        "from flask import Response\n",
        "import json\n",
        "\n",
        "@app.route('/custom_response')\n",
        "def custom_response():\n",
        "    data = {\"message\": \"Custom Response\"}\n",
        "    response = Response(json.dumps(data), status=200, mimetype='application/json')\n",
        "    return response\n"
      ],
      "metadata": {
        "id": "1A7ByEIE4M6R"
      },
      "execution_count": null,
      "outputs": []
    },
    {
      "cell_type": "markdown",
      "source": [
        "## **Q15.How do you capture URL parameters in Flask?**"
      ],
      "metadata": {
        "id": "pJ4xnJOU5WTH"
      }
    },
    {
      "cell_type": "markdown",
      "source": [
        "**Capturing URL Parameters in Flask**\n",
        "\n",
        "Flask allows you to capture dynamic URL parameters using route variables."
      ],
      "metadata": {
        "id": "mLvpX6vz5n1c"
      }
    },
    {
      "cell_type": "code",
      "source": [
        "#Capturing a Single URL Parameter\n",
        "from flask import Flask\n",
        "\n",
        "app = Flask(__name__)\n",
        "\n",
        "@app.route('/user/<username>')\n",
        "def show_user(username):\n",
        "    return f\"User Profile: {username}\"\n",
        "\n",
        "if __name__ == '__main__':\n",
        "    app.run(debug=True)\n",
        "# URL Example: /user/John\n",
        "# Output: \"User Profile: John\""
      ],
      "metadata": {
        "id": "og5Rd7gc686j"
      },
      "execution_count": null,
      "outputs": []
    },
    {
      "cell_type": "code",
      "source": [
        "#Capturing Multiple URL Parameters\n",
        "@app.route('/post/<int:post_id>/comment/<string:comment_id>')\n",
        "def show_comment(post_id, comment_id):\n",
        "    return f\"Post ID: {post_id}, Comment ID: {comment_id}\"\n"
      ],
      "metadata": {
        "id": "ijCukIVj7JPk"
      },
      "execution_count": null,
      "outputs": []
    },
    {
      "cell_type": "markdown",
      "source": [
        "URL Example: /post/101/comment/abc123\n",
        "* Output: \"Post ID: 101, Comment ID: abc123\"\n",
        "\n",
        "* Type Converters Available in Flask:\n",
        "\n",
        " * <string:var> → String (default)\n",
        "\n",
        " * <int:var> → Integer\n",
        "\n",
        " * <float:var> → Float\n",
        "\n",
        " * <path:var> → Captures full path with /"
      ],
      "metadata": {
        "id": "fZ18flvb7NBe"
      }
    },
    {
      "cell_type": "code",
      "source": [
        "#Capturing Parameters Using request.args (Query Parameters)\n",
        "from flask import request\n",
        "\n",
        "@app.route('/search')\n",
        "def search():\n",
        "    query = request.args.get('q', 'No Query Provided')\n",
        "    return f\"Search results for: {query}\"\n"
      ],
      "metadata": {
        "id": "SRXKrdv0-9r2"
      },
      "execution_count": null,
      "outputs": []
    }
  ],
  "metadata": {
    "colab": {
      "provenance": [],
      "collapsed_sections": [
        "89gDC2EXiaic",
        "ERnrbfxPjPgp",
        "rXAcuibZj7db",
        "olwMp_qyk5hw",
        "_VHPIxpYq_Iw",
        "ZNz8RHb0sCyr",
        "9JD7csi0sp2V",
        "jcTdDFp_tPwK",
        "79rZACdnuVMc",
        "0wiD7jeyvd__",
        "i0m6oCl2wZco",
        "HG6WWNXBw4s-",
        "adM6S5H1yKx0",
        "8eSL1fUNysQb",
        "LdH3ohFB2Rc0",
        "5Utudp1M3IJH",
        "OIAo0YTl5Ebq",
        "qFg6rqcm67_1",
        "v88_lC8E78yc",
        "Fw8-IUcR9Vus",
        "zAr4aNov94OR",
        "HjDUEA5K_9AJ",
        "ulXLRrcRBLVH",
        "952lYgh1gpD1",
        "j3CdXpuTh13c",
        "xQbjbCfCk8dJ",
        "Zox6wycdm87g",
        "dhftZ-SapJ1-",
        "tbV2nP9WsnVb",
        "8pQekIItxnfo",
        "1tnuIQNx0S5J",
        "MVFxs6LL29Fd",
        "XMuA5QiBOjeO",
        "rBs9yXhUR_nF",
        "mq3yAAUQYz_6",
        "Vq49IQxVbm2O",
        "NhqEk8G13Z6C",
        "pJ4xnJOU5WTH"
      ]
    },
    "kernelspec": {
      "display_name": "Python 3",
      "name": "python3"
    },
    "language_info": {
      "name": "python"
    }
  },
  "nbformat": 4,
  "nbformat_minor": 0
}